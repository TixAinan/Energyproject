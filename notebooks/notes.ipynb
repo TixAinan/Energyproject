{
 "cells": [
  {
   "cell_type": "markdown",
   "metadata": {},
   "source": [
    "## Notes"
   ]
  },
  {
   "cell_type": "markdown",
   "metadata": {},
   "source": [
    "### Data"
   ]
  },
  {
   "cell_type": "markdown",
   "metadata": {},
   "source": [
    "Energy\n",
    "\n",
    "Links:\n",
    "https://www.energidataservice.dk/tso-electricity/ProductionMunicipalityHour\n",
    "https://dmigw.govcloud.dk/v2/climateData/collections/municipalityValue/items\n",
    "API:\n"
   ]
  },
  {
   "cell_type": "markdown",
   "metadata": {},
   "source": []
  }
 ],
 "metadata": {
  "language_info": {
   "name": "python"
  }
 },
 "nbformat": 4,
 "nbformat_minor": 2
}
