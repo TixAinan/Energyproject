{
 "cells": [
  {
   "cell_type": "markdown",
   "metadata": {},
   "source": [
    "Imports"
   ]
  },
  {
   "cell_type": "code",
   "execution_count": null,
   "metadata": {},
   "outputs": [],
   "source": [
    "import requests\n",
    "import pandas as pd"
   ]
  },
  {
   "cell_type": "code",
   "execution_count": null,
   "metadata": {},
   "outputs": [],
   "source": []
  },
  {
   "cell_type": "code",
   "execution_count": null,
   "metadata": {},
   "outputs": [],
   "source": [
    "response = requests.get(\n",
    "    url='https://api.energidataservice.dk/dataset/ProductionMunicipalityHour?limit=5')\n",
    "\n",
    "result = response.json()\n",
    "\n",
    "for k, v in result.items():\n",
    "    print(k, v)\n",
    "\n",
    "records = result.get('records', [])\n",
    "\n",
    "print('records:')\n",
    "for record in records:\n",
    "    print(' ', record)"
   ]
  }
 ],
 "metadata": {
  "language_info": {
   "name": "python"
  }
 },
 "nbformat": 4,
 "nbformat_minor": 2
}
